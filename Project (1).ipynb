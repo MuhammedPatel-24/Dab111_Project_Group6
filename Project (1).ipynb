{
 "cells": [
  {
   "cell_type": "code",
   "execution_count": null,
   "id": "c436a25f-b9b8-4516-a083-35dedc149e1a",
   "metadata": {},
   "outputs": [],
   "source": [
    "pip install pandas"
   ]
  },
  {
   "cell_type": "code",
   "execution_count": null,
   "id": "5a11be11-b159-4263-b6db-5e4f41b94cae",
   "metadata": {},
   "outputs": [],
   "source": [
    "pip install -U Flask"
   ]
  },
  {
   "cell_type": "code",
   "execution_count": null,
   "id": "7f35c0aa-0a9d-4674-8d68-fd276604e4b7",
   "metadata": {},
   "outputs": [],
   "source": [
    "from flask import Flask,render_template_string,render_template  \n",
    "from werkzeug.serving import run_simple \n",
    "import pandas as pd"
   ]
  },
  {
   "cell_type": "code",
   "execution_count": null,
   "id": "e5250ffe-4236-462a-8c3e-6b307408a280",
   "metadata": {},
   "outputs": [],
   "source": [
    "pip install sqlite3"
   ]
  },
  {
   "cell_type": "code",
   "execution_count": null,
   "id": "82801432-8d5d-4d71-9ec1-d88cf83839a2",
   "metadata": {},
   "outputs": [],
   "source": [
    "import sqlite3 \n",
    "con=sqlite3.connect('hospital.db')\n",
    "cursor=con.cursor()"
   ]
  },
  {
   "cell_type": "code",
   "execution_count": null,
   "id": "27fce605-f8c1-4acd-842f-55e97593c24f",
   "metadata": {},
   "outputs": [],
   "source": [
    "create_table=\"\"\" CREATE TABLE IF NOT EXISTS hospital_Info(\n",
    "                Provider_ID INT,\n",
    "                Hospital_Name TEXT,\n",
    "                Address VARCHAR,\n",
    "                City TEXT,\n",
    "                State TEXT,\n",
    "                ZIP_Code INT,\n",
    "                County_Name TEXT,\n",
    "                Phone_Number INT,\n",
    "                EmergencyServices BOOLEAN);\n",
    "                \"\"\"\n",
    "cursor.execute(create_table)"
   ]
  },
  {
   "cell_type": "code",
   "execution_count": null,
   "id": "eb590a1d-68b5-44fc-85e7-147f0286d395",
   "metadata": {},
   "outputs": [],
   "source": [
    "import csv "
   ]
  },
  {
   "cell_type": "code",
   "execution_count": null,
   "id": "a1e115f6-1cbd-4a8d-9b43-f162b74c531a",
   "metadata": {},
   "outputs": [],
   "source": [
    "with open (\"Hospital_Info.csv\") as file:\n",
    "    data_file=csv.reader(file)\n",
    "    for row in data_file:\n",
    "        if row[0]=='Provider_ID':\n",
    "            continue\n",
    "        cursor.execute(\"INSERT INTO hospital_Info VALUES(?,?,?,?,?,?,?,?,?)\",(row[0],row[1],row[2],row[3],row[4],row[5],row[6],row[7], row[8]))"
   ]
  },
  {
   "cell_type": "code",
   "execution_count": null,
   "id": "2e43546f-b3f1-40db-a067-140102106fd4",
   "metadata": {},
   "outputs": [],
   "source": [
    "dataframe = pd.read_csv('Hospital_Info.csv') \n",
    "dataframe"
   ]
  },
  {
   "cell_type": "code",
   "execution_count": null,
   "id": "81649254-25a4-44b8-b464-823f8fe85464",
   "metadata": {},
   "outputs": [],
   "source": [
    "con.commit()\n",
    "con.close()"
   ]
  },
  {
   "cell_type": "code",
   "execution_count": null,
   "id": "888a44b2-953c-4d6d-a7f3-68120beaedd4",
   "metadata": {},
   "outputs": [],
   "source": [
    "webpage=Flask(__name__)\n",
    "@webpage.route('/') \n",
    "def home(): \n",
    "    data_html=dataframe.head(50).to_html(index=False)  \n",
    "    return render_template_string('''\n",
    "    <!DOCTYPE html>\n",
    "    <html>\n",
    "    <body>\n",
    "        <h1><b>Final Project(GROUP_NO: 6)</b></h1>\n",
    "        <b>Muhammed Patel</b><br>\n",
    "        <b>Mohammed Habeeb Uddin Ifham</b>\n",
    "        <h3><b>Hospital Information</b></h3>\n",
    "        <p>Welcome to our Database</p>\n",
    "        <a href=\"http://localhost:7300/Data\">\n",
    "        <button>Data</button>\n",
    "        </a>\n",
    "        <a href=\"http://localhost:7300/about\">\n",
    "        <button>About</button>\n",
    "        </a>\n",
    "\n",
    "   </body>\n",
    "   </html>\n",
    "   ''',data=data_html)\n",
    "@webpage.route('/Data') \n",
    "def Data(): \n",
    "    data_html=dataframe.head(50).to_html(index=False)  \n",
    "    return render_template_string('''\n",
    "    <!DOCTYPE html>\n",
    "    <html>\n",
    "    <body>\n",
    "\n",
    "        <h1>Hospital Information</h1>\n",
    "        <div>{{data|safe}} </div>\n",
    "\n",
    "   </body>\n",
    "   </html>\n",
    "   ''',data=data_html)\n",
    "@webpage.route('/about')\n",
    "def about():\n",
    "    return  render_template_string('''\n",
    "    <!DOCTYPE html>\n",
    "    <html>\n",
    "    </head>\n",
    "    <body>                                                             \n",
    "         \n",
    "        <h1>Hospital Information</h1>\n",
    "        <p>We Have different variables that tells the information about different Hospitals</p>\n",
    "        <a href=\"https://www.kaggle.com/datasets/cms/hospital-general-information\">\n",
    "        <button>Source</button>\n",
    "        </a>\n",
    "        \n",
    "        <ul>\n",
    "            <li><b>Provider_ID:</b>Unique ID for Hospital.</li>\n",
    "            <li><b>Hospital_Name:</b>Name of the Hospital.</li>\n",
    "            <li><b>Address:</b>Addresses of the Hospital.</li>\n",
    "            <li><b>City:</b>City of the Hospital.</li>\n",
    "            <li><b>State:</b>State of the Hospital.</li>\n",
    "            <li><b>ZIP_Code:</b>Postal Code of the Hospital.</li>\n",
    "            <li><b>County_Name:</b>County Name of the Hospital.</li>\n",
    "            <li><b>Phone_Number:</b>Contact Number of the Hospital.</li> \n",
    "            <li><b>EmergencyServices:</b>Does the Hospital Have Emergency Services?</li>  \n",
    "        </ul>\n",
    "                         \n",
    "    </body>\n",
    "    </html>                             \n",
    "    ''')"
   ]
  },
  {
   "cell_type": "code",
   "execution_count": null,
   "id": "8561aaa7-9cd1-44a6-b5f8-9903e62c861f",
   "metadata": {},
   "outputs": [],
   "source": [
    "run_simple('localhost',7300,webpage,use_reloader=False,use_debugger=False)"
   ]
  },
  {
   "cell_type": "code",
   "execution_count": null,
   "id": "8191cb83-52bd-4866-bfe6-791ad483c1a3",
   "metadata": {},
   "outputs": [],
   "source": []
  }
 ],
 "metadata": {
  "kernelspec": {
   "display_name": "Python 3 (ipykernel)",
   "language": "python",
   "name": "python3"
  },
  "language_info": {
   "codemirror_mode": {
    "name": "ipython",
    "version": 3
   },
   "file_extension": ".py",
   "mimetype": "text/x-python",
   "name": "python",
   "nbconvert_exporter": "python",
   "pygments_lexer": "ipython3",
   "version": "3.11.7"
  }
 },
 "nbformat": 4,
 "nbformat_minor": 5
}
